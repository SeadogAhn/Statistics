{
 "cells": [
  {
   "cell_type": "markdown",
   "metadata": {},
   "source": [
    "# Populations, Samples and Processes\n",
    "\n",
    "## Population and Random Samples\n",
    "<br><img src=\".\\..\\image\\population_sample.gif\">\n",
    "------\n",
    "<br><img src=\".\\..\\image\\population_sample.png\">\n",
    "### The relationship between probability and inferential statistics\n",
    "<pre>\n",
    "* **Population  ->  `Probability`             ->  Sample**\n",
    "* **Sample      ->  `Inferential statistics`  ->  Population**\n",
    "</pre>\n",
    "## Set\n",
    "<img src=\".\\..\\image\\xset-operations-venn-diagrams.png.pagespeed.ic.XtS_x--Uf7.webp\">"
   ]
  },
  {
   "cell_type": "markdown",
   "metadata": {},
   "source": [
    "# Pictorial and Tabular Methods in Descriptive Statistics\n"
   ]
  },
  {
   "cell_type": "markdown",
   "metadata": {},
   "source": [
    "## Box Plot"
   ]
  },
  {
   "cell_type": "code",
   "execution_count": 3,
   "metadata": {},
   "outputs": [
    {
     "name": "stdout",
     "output_type": "stream",
     "text": [
      "          TV                                               \n",
      "       count      mean       std  min    25%  50%  75%  max\n",
      "Gender                                                     \n",
      "f        5.0  4.080000  0.769415  3.4  3.500  3.7  4.7  5.1\n",
      "m        6.0  3.516667  0.926103  2.1  2.925  4.0  4.1  4.3\n"
     ]
    },
    {
     "data": {
      "text/plain": [
       "f         AxesSubplot(0.1,0.15;0.363636x0.75)\n",
       "m    AxesSubplot(0.536364,0.15;0.363636x0.75)\n",
       "dtype: object"
      ]
     },
     "execution_count": 3,
     "metadata": {},
     "output_type": "execute_result"
    },
    {
     "data": {
      "image/png": "[encoded data removed]",
      "text/plain": [
       "<matplotlib.figure.Figure at 0x181480055c0>"
      ]
     },
     "metadata": {},
     "output_type": "display_data"
    }
   ],
   "source": [
    "import numpy as np\n",
    "import matplotlib.pyplot as plt\n",
    "import scipy as sp\n",
    "import pandas as pd\n",
    "import seaborn as sns\n",
    "\n",
    "data = pd.DataFrame({\n",
    "    'Gender': ['f', 'f', 'm', 'f', 'm','m', 'f', 'm', 'f', 'm', 'm'],\n",
    "    'TV': [3.4, 3.5, 2.6, 4.7, 4.1, 4.1,5.1, 3.9, 3.7, 2.1, 4.3]\n",
    "})\n",
    "\n",
    "grouped = data.groupby('Gender')\n",
    "print(grouped.describe())\n",
    "grouped.boxplot()\n"
   ]
  },
  {
   "cell_type": "code",
   "execution_count": null,
   "metadata": {},
   "outputs": [],
   "source": []
  }
 ],
 "metadata": {
  "kernelspec": {
   "display_name": "Python 3",
   "language": "python",
   "name": "python3"
  },
  "language_info": {
   "codemirror_mode": {
    "name": "ipython",
    "version": 3
   },
   "file_extension": ".py",
   "mimetype": "text/x-python",
   "name": "python",
   "nbconvert_exporter": "python",
   "pygments_lexer": "ipython3",
   "version": "3.6.8"
  }
 },
 "nbformat": 4,
 "nbformat_minor": 2
}
