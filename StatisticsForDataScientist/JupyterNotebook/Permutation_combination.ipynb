{
 "cells": [
  {
   "cell_type": "markdown",
   "metadata": {},
   "source": [
    "# 순열(Permutation)과 조합(Combination)"
   ]
  },
  {
   "cell_type": "code",
   "execution_count": 1,
   "metadata": {},
   "outputs": [
    {
     "name": "stdout",
     "output_type": "stream",
     "text": [
      "type the two numbers with a comma: 10,3\n",
      "720.0\n",
      "120.0\n"
     ]
    }
   ],
   "source": [
    "import math\n",
    "\n",
    "def permutation(n,r):\n",
    "    return math.factorial(n) / math.factorial(n-r)\n",
    "\n",
    "def combination(n,r):\n",
    "    return math.factorial(n) / (math.factorial(r)*math.factorial(n-r))\n",
    "\n",
    "''' input n and r'''\n",
    "n, r = map(int, input('type the two numbers with a comma: ').split(','))\n",
    "\n",
    "print(permutation(n,r))\n",
    "print(combination(n,r))"
   ]
  },
  {
   "cell_type": "markdown",
   "metadata": {},
   "source": [
    "# 조건부확률(Conditional Probability)\n",
    "\n",
    "$$P(A\\mid B) = \\frac{P(B\\mid A)P(A)}{P(B)}$$"
   ]
  },
  {
   "cell_type": "code",
   "execution_count": null,
   "metadata": {},
   "outputs": [],
   "source": []
  }
 ],
 "metadata": {
  "kernelspec": {
   "display_name": "Python 3",
   "language": "python",
   "name": "python3"
  },
  "language_info": {
   "codemirror_mode": {
    "name": "ipython",
    "version": 3
   },
   "file_extension": ".py",
   "mimetype": "text/x-python",
   "name": "python",
   "nbconvert_exporter": "python",
   "pygments_lexer": "ipython3",
   "version": "3.6.4"
  }
 },
 "nbformat": 4,
 "nbformat_minor": 2
}
