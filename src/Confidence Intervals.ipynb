{
 "cells": [
  {
   "cell_type": "markdown",
   "metadata": {},
   "source": [
    "# Confidence Intervals"
   ]
  },
  {
   "cell_type": "code",
   "execution_count": 1,
   "metadata": {},
   "outputs": [],
   "source": [
    "import scipy.stats\n",
    "import numpy as np\n",
    "import matplotlib.pyplot as plt"
   ]
  },
  {
   "cell_type": "code",
   "execution_count": null,
   "metadata": {},
   "outputs": [],
   "source": [
    "\n",
    "ci = 0.95\n",
    "\n",
    "x = np.linspace(-3.5, 3.5, 100) # plot x range\n",
    "y = stats.norm.pdf(x) # plot y : probability density function\n",
    "ep = stats.norm.ppf(p) # estimate point\n",
    "ax = np.linspace(-3.5, ep, 100) # x range fill area\n",
    "ay = stats.norm.pdf(ax) # y range of fill area\n",
    "print('Probablity:{0}, x:{1}'.format(p, stats.norm.ppf(p)))\n",
    "plt.plot(x, y, 'b-')\n",
    "plt.axvline(x=stats.norm.ppf(p), color='r')\n",
    "plt.fill_between(ax, 0, ay, color='r', alpha=0.6)\n",
    "plt.show()"
   ]
  }
 ],
 "metadata": {
  "kernelspec": {
   "display_name": "Python 3",
   "language": "python",
   "name": "python3"
  },
  "language_info": {
   "codemirror_mode": {
    "name": "ipython",
    "version": 3
   },
   "file_extension": ".py",
   "mimetype": "text/x-python",
   "name": "python",
   "nbconvert_exporter": "python",
   "pygments_lexer": "ipython3",
   "version": "3.6.3"
  }
 },
 "nbformat": 4,
 "nbformat_minor": 2
}
